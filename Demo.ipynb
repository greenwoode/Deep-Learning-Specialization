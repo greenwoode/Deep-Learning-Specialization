{
 "cells": [
  {
   "cell_type": "code",
   "execution_count": null,
   "id": "e85a7557-2b3e-4567-a2ae-77d32e0c1186",
   "metadata": {},
   "outputs": [],
   "source": [
    "import numpy as np\n",
    "import pandas as pd\n",
    "import tensorflow as tf\n",
    "from keras import layers, models\n",
    "import keras\n",
    "import matplotlib.pyplot as plt\n",
    "import cv2\n",
    "import os\n",
    "import random\n",
    "tf.config.list_physical_devices('GPU')"
   ]
  },
  {
   "cell_type": "code",
   "execution_count": 29,
   "id": "60079e3f-73c9-45eb-8c48-f2930d35c8e0",
   "metadata": {
    "execution": {
     "iopub.execute_input": "2024-08-15T14:39:36.649394Z",
     "iopub.status.busy": "2024-08-15T14:39:36.649062Z",
     "iopub.status.idle": "2024-08-15T14:39:36.653469Z",
     "shell.execute_reply": "2024-08-15T14:39:36.652660Z",
     "shell.execute_reply.started": "2024-08-15T14:39:36.649380Z"
    }
   },
   "outputs": [],
   "source": [
    "labels = sorted(os.listdir('Data/Games/DATA BACKUP/train'))"
   ]
  },
  {
   "cell_type": "code",
   "execution_count": 30,
   "id": "b51338b3-36d0-443e-8151-93ad875a95df",
   "metadata": {
    "execution": {
     "iopub.execute_input": "2024-08-15T14:39:37.188161Z",
     "iopub.status.busy": "2024-08-15T14:39:37.187549Z",
     "iopub.status.idle": "2024-08-15T14:39:37.282721Z",
     "shell.execute_reply": "2024-08-15T14:39:37.281976Z",
     "shell.execute_reply.started": "2024-08-15T14:39:37.188146Z"
    }
   },
   "outputs": [],
   "source": [
    "model = keras.saving.load_model(f'models/cnn_Games_150_N-1040.keras')"
   ]
  },
  {
   "cell_type": "code",
   "execution_count": 34,
   "id": "13bdf3ed-b17c-4fb8-90b2-63e8d646d29e",
   "metadata": {
    "execution": {
     "iopub.execute_input": "2024-08-15T14:51:47.881747Z",
     "iopub.status.busy": "2024-08-15T14:51:47.881035Z",
     "iopub.status.idle": "2024-08-15T14:51:47.885351Z",
     "shell.execute_reply": "2024-08-15T14:51:47.884511Z",
     "shell.execute_reply.started": "2024-08-15T14:51:47.881731Z"
    }
   },
   "outputs": [],
   "source": [
    "file_name = 'Test/Screenshot_3.jpg'"
   ]
  },
  {
   "cell_type": "code",
   "execution_count": 38,
   "id": "ff238a0f-4d8a-44a2-a5d9-8a6f74d2115c",
   "metadata": {
    "execution": {
     "iopub.execute_input": "2024-08-15T14:57:47.695181Z",
     "iopub.status.busy": "2024-08-15T14:57:47.694897Z",
     "iopub.status.idle": "2024-08-15T14:57:47.756192Z",
     "shell.execute_reply": "2024-08-15T14:57:47.755543Z",
     "shell.execute_reply.started": "2024-08-15T14:57:47.695167Z"
    }
   },
   "outputs": [
    {
     "name": "stdout",
     "output_type": "stream",
     "text": [
      "\u001b[1m1/1\u001b[0m \u001b[32m━━━━━━━━━━━━━━━━━━━━\u001b[0m\u001b[37m\u001b[0m \u001b[1m0s\u001b[0m 16ms/step\n"
     ]
    },
    {
     "data": {
      "text/plain": [
       "'Gran Turismo 3 - A-Spec'"
      ]
     },
     "execution_count": 38,
     "metadata": {},
     "output_type": "execute_result"
    }
   ],
   "source": [
    "image = np.array([cv2.resize(cv2.imread(str(file_name)), (256,256))])/255.0\n",
    "raw_pred = model.predict(image)\n",
    "labels[np.argmax(raw_pred[0])]"
   ]
  },
  {
   "cell_type": "code",
   "execution_count": null,
   "id": "80be45dd-64a0-4d47-af1f-acfff148c12a",
   "metadata": {},
   "outputs": [],
   "source": []
  }
 ],
 "metadata": {
  "kernelspec": {
   "display_name": "Python [conda env:TensorFlows]",
   "language": "python",
   "name": "conda-env-TensorFlows-py"
  },
  "language_info": {
   "codemirror_mode": {
    "name": "ipython",
    "version": 3
   },
   "file_extension": ".py",
   "mimetype": "text/x-python",
   "name": "python",
   "nbconvert_exporter": "python",
   "pygments_lexer": "ipython3",
   "version": "3.11.9"
  },
  "widgets": {
   "application/vnd.jupyter.widget-state+json": {
    "state": {},
    "version_major": 2,
    "version_minor": 0
   }
  }
 },
 "nbformat": 4,
 "nbformat_minor": 5
}
