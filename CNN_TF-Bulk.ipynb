{
 "cells": [
  {
   "cell_type": "code",
   "execution_count": 1,
   "id": "e85a7557-2b3e-4567-a2ae-77d32e0c1186",
   "metadata": {
    "execution": {
     "iopub.execute_input": "2024-08-12T05:46:52.188562Z",
     "iopub.status.busy": "2024-08-12T05:46:52.188271Z",
     "iopub.status.idle": "2024-08-12T05:46:54.312397Z",
     "shell.execute_reply": "2024-08-12T05:46:54.311750Z",
     "shell.execute_reply.started": "2024-08-12T05:46:52.188547Z"
    }
   },
   "outputs": [
    {
     "name": "stderr",
     "output_type": "stream",
     "text": [
      "2024-08-12 01:46:52.596456: E external/local_xla/xla/stream_executor/cuda/cuda_fft.cc:485] Unable to register cuFFT factory: Attempting to register factory for plugin cuFFT when one has already been registered\n",
      "2024-08-12 01:46:52.609400: E external/local_xla/xla/stream_executor/cuda/cuda_dnn.cc:8454] Unable to register cuDNN factory: Attempting to register factory for plugin cuDNN when one has already been registered\n",
      "2024-08-12 01:46:52.613427: E external/local_xla/xla/stream_executor/cuda/cuda_blas.cc:1452] Unable to register cuBLAS factory: Attempting to register factory for plugin cuBLAS when one has already been registered\n",
      "2024-08-12 01:46:52.624250: I tensorflow/core/platform/cpu_feature_guard.cc:210] This TensorFlow binary is optimized to use available CPU instructions in performance-critical operations.\n",
      "To enable the following instructions: SSE4.1 SSE4.2 AVX AVX2 FMA, in other operations, rebuild TensorFlow with the appropriate compiler flags.\n",
      "WARNING: All log messages before absl::InitializeLog() is called are written to STDERR\n",
      "I0000 00:00:1723441614.268686  389841 cuda_executor.cc:1001] could not open file to read NUMA node: /sys/bus/pci/devices/0000:09:00.0/numa_node\n",
      "Your kernel may have been built without NUMA support.\n",
      "I0000 00:00:1723441614.306580  389841 cuda_executor.cc:1001] could not open file to read NUMA node: /sys/bus/pci/devices/0000:09:00.0/numa_node\n",
      "Your kernel may have been built without NUMA support.\n",
      "I0000 00:00:1723441614.306658  389841 cuda_executor.cc:1001] could not open file to read NUMA node: /sys/bus/pci/devices/0000:09:00.0/numa_node\n",
      "Your kernel may have been built without NUMA support.\n"
     ]
    },
    {
     "data": {
      "text/plain": [
       "[PhysicalDevice(name='/physical_device:GPU:0', device_type='GPU')]"
      ]
     },
     "execution_count": 1,
     "metadata": {},
     "output_type": "execute_result"
    }
   ],
   "source": [
    "import numpy as np\n",
    "import pandas as pd\n",
    "import tensorflow as tf\n",
    "from keras import layers, models\n",
    "import keras\n",
    "import matplotlib.pyplot as plt\n",
    "import cv2\n",
    "import os\n",
    "import random\n",
    "tf.config.list_physical_devices('GPU')"
   ]
  },
  {
   "cell_type": "code",
   "execution_count": 2,
   "id": "60079e3f-73c9-45eb-8c48-f2930d35c8e0",
   "metadata": {
    "execution": {
     "iopub.execute_input": "2024-08-12T05:46:54.314222Z",
     "iopub.status.busy": "2024-08-12T05:46:54.313622Z",
     "iopub.status.idle": "2024-08-12T05:46:54.320297Z",
     "shell.execute_reply": "2024-08-12T05:46:54.319272Z",
     "shell.execute_reply.started": "2024-08-12T05:46:54.314178Z"
    }
   },
   "outputs": [],
   "source": [
    "class My_Custom_Generator(keras.utils.Sequence):\n",
    "\n",
    "    def __init__(self, image_filenames, labels, batch_size, img_size) :\n",
    "        self.image_filenames = image_filenames\n",
    "        self.labels = labels\n",
    "        self.batch_size = batch_size\n",
    "        self.image_size = img_size\n",
    "\n",
    "\n",
    "    def __len__(self) :\n",
    "        return (np.ceil(len(self.image_filenames) / float(self.batch_size))).astype(np.int32)\n",
    "\n",
    "\n",
    "    def __getitem__(self, idx) :\n",
    "        batch_x = self.image_filenames[idx * self.batch_size : (idx+1) * self.batch_size]\n",
    "        batch_y = self.labels[idx * self.batch_size : (idx+1) * self.batch_size]\n",
    "\n",
    "        return np.array([\n",
    "                cv2.resize(cv2.imread(str(file_name)), self.image_size)\n",
    "                    for file_name in batch_x])/255.0, np.array(batch_y)"
   ]
  },
  {
   "cell_type": "code",
   "execution_count": 3,
   "id": "0c28e644-bbf5-44c0-a5d7-e367343ebb7c",
   "metadata": {
    "execution": {
     "iopub.execute_input": "2024-08-12T05:46:54.321611Z",
     "iopub.status.busy": "2024-08-12T05:46:54.321184Z",
     "iopub.status.idle": "2024-08-12T05:46:54.328092Z",
     "shell.execute_reply": "2024-08-12T05:46:54.327167Z",
     "shell.execute_reply.started": "2024-08-12T05:46:54.321594Z"
    }
   },
   "outputs": [],
   "source": [
    "def getData(dataset, n={} ,k=99999999, m=99999999):\n",
    "\n",
    "    if dataset == 'ImageNet':\n",
    "        target = \"./Data/150_subset/\"\n",
    "    elif dataset == 'Games':\n",
    "        target = \"./Data/Games/DATA BACKUP/\"\n",
    "        \n",
    "    data = {}\n",
    "    dataLabels = []\n",
    "    splits = os.listdir(target)\n",
    "    for split in splits[:k]:\n",
    "        data[split] = {'X':[], 'y':[]}\n",
    "        if dataLabels == []: #avoid potentially different read order\n",
    "            labels = sorted(os.listdir(target+f'{split}/'))\n",
    "            dataLabels = labels\n",
    "        for label in dataLabels[:m]:\n",
    "            files = os.listdir(target+f'{split}/{label}/')\n",
    "            random.shuffle(files)\n",
    "            for file in files[:n[split]]:\n",
    "                data[split]['X'].append(f'{target}{split}/{label}/{file}')\n",
    "                y_temp = [0]*min(len(dataLabels), m)\n",
    "                y_temp[dataLabels.index(label)] = 1\n",
    "                data[split]['y'].append(np.asarray(y_temp))\n",
    "        data[split]['X'] = np.asarray(data[split]['X'])\n",
    "        data[split]['y'] = np.asarray(data[split]['y'])\n",
    "    return data, dataLabels, splits"
   ]
  },
  {
   "cell_type": "code",
   "execution_count": 4,
   "id": "37f29ed0-9657-48a1-8ce3-ae45de4c7b39",
   "metadata": {
    "execution": {
     "iopub.execute_input": "2024-08-12T05:46:54.329583Z",
     "iopub.status.busy": "2024-08-12T05:46:54.329195Z",
     "iopub.status.idle": "2024-08-12T05:46:54.334606Z",
     "shell.execute_reply": "2024-08-12T05:46:54.333457Z",
     "shell.execute_reply.started": "2024-08-12T05:46:54.329567Z"
    }
   },
   "outputs": [],
   "source": [
    "def makeModel(inputShape=(256, 256, 3), labelCount=5):\n",
    "\n",
    "    keras.backend.clear_session()\n",
    "\n",
    "    inputs = keras.Input(shape=inputShape)\n",
    "\n",
    "    x = layers.Conv2D(filters=32, kernel_size=3, strides=3, activation=\"relu\")(inputs) #(85,85,32)\n",
    "\n",
    "    x = layers.Conv2D(filters=64, kernel_size=3, strides=3, activation=\"relu\")(x) #(28,28,64)\n",
    "\n",
    "    x = layers.Conv2D(filters=128, kernel_size=8, strides=8, activation=\"relu\")(x) #(16,16,128)\n",
    "\n",
    "    #x = layers.Conv2D(filters=256, kernel_size=8, strides=8, activation=\"relu\")(x) #(2,2,256)\n",
    "\n",
    "    #x = layers.Conv2D(filters=256, kernel_size=2, strides=2, activation=\"relu\")(x) #(1,1,256)\n",
    "\n",
    "    x = layers.Flatten()(x)\n",
    "#    x = layers.Dropout(0.15)(x)\n",
    "    x = layers.Dense(256, activation='relu')(x)\n",
    "    #x = layers.Dense(256, activation='relu')(x)\n",
    "\n",
    "    outputs = layers.Dense(labelCount, activation='sigmoid')(x)\n",
    "\n",
    "    return keras.Model(inputs=inputs, outputs=outputs)"
   ]
  },
  {
   "cell_type": "code",
   "execution_count": 5,
   "id": "03177561-5768-4799-928f-702ff3ce7cb2",
   "metadata": {
    "execution": {
     "iopub.execute_input": "2024-08-12T05:46:54.336552Z",
     "iopub.status.busy": "2024-08-12T05:46:54.335759Z",
     "iopub.status.idle": "2024-08-12T05:46:54.340182Z",
     "shell.execute_reply": "2024-08-12T05:46:54.339285Z",
     "shell.execute_reply.started": "2024-08-12T05:46:54.336535Z"
    }
   },
   "outputs": [],
   "source": [
    "lr_schedule = keras.optimizers.schedules.ExponentialDecay(\n",
    "    initial_learning_rate=1e-2,\n",
    "    decay_steps=5000,\n",
    "    decay_rate=0.90)"
   ]
  },
  {
   "cell_type": "code",
   "execution_count": 6,
   "id": "a5f0615a-66e2-4a50-bba2-5196d9913cfa",
   "metadata": {
    "execution": {
     "iopub.execute_input": "2024-08-12T05:46:54.341478Z",
     "iopub.status.busy": "2024-08-12T05:46:54.341121Z",
     "iopub.status.idle": "2024-08-12T05:46:54.345341Z",
     "shell.execute_reply": "2024-08-12T05:46:54.344672Z",
     "shell.execute_reply.started": "2024-08-12T05:46:54.341462Z"
    }
   },
   "outputs": [],
   "source": [
    "callbacks = [\n",
    "keras.callbacks.ModelCheckpoint(\n",
    "    filepath=\"callback.keras\",\n",
    "    save_best_only=True,\n",
    "    monitor=\"val_accuracy\")\n",
    "]"
   ]
  },
  {
   "cell_type": "code",
   "execution_count": 7,
   "id": "ff238a0f-4d8a-44a2-a5d9-8a6f74d2115c",
   "metadata": {
    "execution": {
     "iopub.execute_input": "2024-08-12T05:46:54.346238Z",
     "iopub.status.busy": "2024-08-12T05:46:54.346093Z",
     "iopub.status.idle": "2024-08-12T05:46:54.351754Z",
     "shell.execute_reply": "2024-08-12T05:46:54.351044Z",
     "shell.execute_reply.started": "2024-08-12T05:46:54.346225Z"
    }
   },
   "outputs": [],
   "source": [
    "def BulkTrain(callbacks, datasets = ['Games', 'ImageNet'], M=50, Ns=[1000, 750, 500, 375, 250, 175, 100, 75, 50, 25], batch_size=256, image_size = (256,256)):\n",
    "    for dataset in datasets:\n",
    "        for n in Ns:\n",
    "\n",
    "            N={ #max samples per split #This block defines N according to testing needs\n",
    "                'test':9999999, #only used for evaluation, so more only increases granularity\n",
    "                'train':n,\n",
    "                'val':65\n",
    "            }\n",
    "\n",
    "            data, dataLabels, splits = getData(dataset, n=N,  m=M)\n",
    "            my_training_batch_generator = My_Custom_Generator(data['train']['X'], data['train']['y'], batch_size, image_size)\n",
    "            my_validation_batch_generator = My_Custom_Generator(data['val']['X'], data['val']['y'], batch_size, image_size)\n",
    "            model = makeModel(inputShape=(256, 256, 3), labelCount=data['train']['y'][0].shape[0])\n",
    "\n",
    "            model.compile(optimizer='Adam',\n",
    "                loss=\"categorical_crossentropy\",\n",
    "                metrics=['accuracy'])\n",
    "\n",
    "            model.fit(my_training_batch_generator,\n",
    "                epochs = 25,\n",
    "                verbose = 0,\n",
    "                callbacks=callbacks,\n",
    "                validation_data = my_validation_batch_generator,\n",
    "               )\n",
    "\n",
    "            model.save(f'models/cnn_{dataset}_{M:03d}_N-{n:04d}.keras')\n",
    "            print(f'Saved [models/cnn_{dataset}_{M:03d}_N-{n:04d}.keras]')"
   ]
  },
  {
   "cell_type": "code",
   "execution_count": 8,
   "id": "342b1606-34b7-4c77-8142-af574b17656d",
   "metadata": {
    "execution": {
     "iopub.execute_input": "2024-08-12T05:46:54.352777Z",
     "iopub.status.busy": "2024-08-12T05:46:54.352595Z",
     "iopub.status.idle": "2024-08-12T07:09:18.042311Z",
     "shell.execute_reply": "2024-08-12T07:09:18.041620Z",
     "shell.execute_reply.started": "2024-08-12T05:46:54.352759Z"
    }
   },
   "outputs": [
    {
     "name": "stderr",
     "output_type": "stream",
     "text": [
      "I0000 00:00:1723441614.706203  389841 cuda_executor.cc:1001] could not open file to read NUMA node: /sys/bus/pci/devices/0000:09:00.0/numa_node\n",
      "Your kernel may have been built without NUMA support.\n",
      "I0000 00:00:1723441614.706314  389841 cuda_executor.cc:1001] could not open file to read NUMA node: /sys/bus/pci/devices/0000:09:00.0/numa_node\n",
      "Your kernel may have been built without NUMA support.\n",
      "I0000 00:00:1723441614.706364  389841 cuda_executor.cc:1001] could not open file to read NUMA node: /sys/bus/pci/devices/0000:09:00.0/numa_node\n",
      "Your kernel may have been built without NUMA support.\n",
      "I0000 00:00:1723441614.831842  389841 cuda_executor.cc:1001] could not open file to read NUMA node: /sys/bus/pci/devices/0000:09:00.0/numa_node\n",
      "Your kernel may have been built without NUMA support.\n",
      "I0000 00:00:1723441614.831940  389841 cuda_executor.cc:1001] could not open file to read NUMA node: /sys/bus/pci/devices/0000:09:00.0/numa_node\n",
      "Your kernel may have been built without NUMA support.\n",
      "2024-08-12 01:46:54.831953: I tensorflow/core/common_runtime/gpu/gpu_device.cc:2112] Could not identify NUMA node of platform GPU id 0, defaulting to 0.  Your kernel may not have been built with NUMA support.\n",
      "I0000 00:00:1723441614.832039  389841 cuda_executor.cc:1001] could not open file to read NUMA node: /sys/bus/pci/devices/0000:09:00.0/numa_node\n",
      "Your kernel may have been built without NUMA support.\n",
      "2024-08-12 01:46:54.832064: I tensorflow/core/common_runtime/gpu/gpu_device.cc:2021] Created device /job:localhost/replica:0/task:0/device:GPU:0 with 21770 MB memory:  -> device: 0, name: NVIDIA GeForce RTX 3090, pci bus id: 0000:09:00.0, compute capability: 8.6\n",
      "/home/king/miniconda3/envs/TensorFlows/lib/python3.11/site-packages/keras/src/trainers/data_adapters/py_dataset_adapter.py:121: UserWarning: Your `PyDataset` class should call `super().__init__(**kwargs)` in its constructor. `**kwargs` can include `workers`, `use_multiprocessing`, `max_queue_size`. Do not pass these arguments to `fit()`, as they will be ignored.\n",
      "  self._warn_if_super_not_called()\n",
      "I0000 00:00:1723441623.083851  389959 service.cc:146] XLA service 0x7efe14005f00 initialized for platform CUDA (this does not guarantee that XLA will be used). Devices:\n",
      "I0000 00:00:1723441623.083935  389959 service.cc:154]   StreamExecutor device (0): NVIDIA GeForce RTX 3090, Compute Capability 8.6\n",
      "2024-08-12 01:47:03.111438: I tensorflow/compiler/mlir/tensorflow/utils/dump_mlir_util.cc:268] disabling MLIR crash reproducer, set env var `MLIR_CRASH_REPRODUCER_DIRECTORY` to enable.\n",
      "2024-08-12 01:47:03.241578: I external/local_xla/xla/stream_executor/cuda/cuda_dnn.cc:531] Loaded cuDNN version 8907\n",
      "2024-08-12 01:47:05.280073: I external/local_xla/xla/stream_executor/cuda/cuda_asm_compiler.cc:393] ptxas warning : Registers are spilled to local memory in function 'gemm_fusion_dot_530', 76 bytes spill stores, 76 bytes spill loads\n",
      "\n",
      "2024-08-12 01:47:05.282529: I external/local_xla/xla/stream_executor/cuda/cuda_asm_compiler.cc:393] ptxas warning : Registers are spilled to local memory in function 'gemm_fusion_dot_530', 76 bytes spill stores, 80 bytes spill loads\n",
      "\n",
      "I0000 00:00:1723441631.714733  389959 device_compiler.h:188] Compiled cluster using XLA!  This line is logged at most once for the lifetime of the process.\n",
      "2024-08-12 01:48:23.790881: I external/local_xla/xla/stream_executor/cuda/cuda_asm_compiler.cc:393] ptxas warning : Registers are spilled to local memory in function 'gemm_fusion_dot_530', 120 bytes spill stores, 120 bytes spill loads\n",
      "\n",
      "2024-08-12 01:48:23.905504: I external/local_xla/xla/stream_executor/cuda/cuda_asm_compiler.cc:393] ptxas warning : Registers are spilled to local memory in function 'gemm_fusion_dot_530', 72 bytes spill stores, 72 bytes spill loads\n",
      "\n"
     ]
    },
    {
     "name": "stdout",
     "output_type": "stream",
     "text": [
      "Saved [models/cnn_ImageNet_050_N-0750.keras]\n",
      "Saved [models/cnn_ImageNet_050_N-0375.keras]\n",
      "Saved [models/cnn_ImageNet_050_N-0175.keras]\n"
     ]
    },
    {
     "name": "stderr",
     "output_type": "stream",
     "text": [
      "2024-08-12 03:02:08.286950: I external/local_xla/xla/stream_executor/cuda/cuda_asm_compiler.cc:393] ptxas warning : Registers are spilled to local memory in function 'gemm_fusion_dot_530', 132 bytes spill stores, 132 bytes spill loads\n",
      "\n"
     ]
    },
    {
     "name": "stdout",
     "output_type": "stream",
     "text": [
      "Saved [models/cnn_ImageNet_050_N-0075.keras]\n"
     ]
    }
   ],
   "source": [
    "BulkTrain(callbacks, datasets = ['ImageNet'], Ns=[750, 375, 175, 75])"
   ]
  },
  {
   "cell_type": "code",
   "execution_count": null,
   "id": "8dc68538-ccff-4968-9712-fed542a4264b",
   "metadata": {},
   "outputs": [],
   "source": []
  }
 ],
 "metadata": {
  "kernelspec": {
   "display_name": "Python [conda env:TensorFlows]",
   "language": "python",
   "name": "conda-env-TensorFlows-py"
  },
  "language_info": {
   "codemirror_mode": {
    "name": "ipython",
    "version": 3
   },
   "file_extension": ".py",
   "mimetype": "text/x-python",
   "name": "python",
   "nbconvert_exporter": "python",
   "pygments_lexer": "ipython3",
   "version": "3.11.9"
  },
  "widgets": {
   "application/vnd.jupyter.widget-state+json": {
    "state": {},
    "version_major": 2,
    "version_minor": 0
   }
  }
 },
 "nbformat": 4,
 "nbformat_minor": 5
}
